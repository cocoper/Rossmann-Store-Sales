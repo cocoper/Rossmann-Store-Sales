{
 "cells": [
  {
   "cell_type": "code",
   "execution_count": 1,
   "metadata": {
    "collapsed": true
   },
   "outputs": [],
   "source": [
    "import numpy as np\n",
    "import pandas as pd\n",
    "import sys\n",
    "import os\n",
    "%matplotlib inline"
   ]
  },
  {
   "cell_type": "code",
   "execution_count": 2,
   "metadata": {
    "collapsed": true
   },
   "outputs": [],
   "source": [
    "import matplotlib.pyplot as plt"
   ]
  },
  {
   "cell_type": "code",
   "execution_count": 3,
   "metadata": {},
   "outputs": [
    {
     "name": "stdout",
     "output_type": "stream",
     "text": [
      "C:\\Users\\XuanYang\\Documents\\GitHub\\Rossmann-Store-Sales\n",
      "C:\\Users\\XuanYang\\Documents\\GitHub\\Rossmann-Store-Sales\\data\\train.csv\n"
     ]
    }
   ],
   "source": [
    "file_folder = os.getcwd()\n",
    "print(file_folder)\n",
    "train_data_path = file_folder +'\\\\data\\\\train.csv'\n",
    "test_data_path = file_folder + '\\\\data\\\\test.csv'\n",
    "store_data_path = file_folder +'\\\\data\\\\store.csv'\n",
    "print(train_data_path)"
   ]
  },
  {
   "cell_type": "markdown",
   "metadata": {},
   "source": [
    "# Data Field\n",
    "\n",
    "- Id - an Id that represents a (Store, Date) duple within the test set\n",
    "- Store - a unique Id for each store 商店ID\n",
    "- Sales - the turnover for any given day (this is what you are predicting) 所给日期的该商店的营销额\n",
    "- Customers - the number of customers on a given day 当天到店消费者\n",
    "- Open - an indicator for whether the store was open: 0 = closed, 1 = open 商店是否开张\n",
    "- StateHoliday - indicates a state holiday. Normally all stores, with few exceptions, are closed on state holidays. Note that all schools are closed on public holidays and weekends. a = public holiday, b = Easter holiday, c = Christmas, 0 = None 国家节日（a-公共假期，b-复活节，c-圣诞节，0 - 无）\n",
    "- SchoolHoliday - indicates if the (Store, Date) was affected by the closure of public schools 表示是否收公共学校关闭的影响\n",
    "- StoreType - differentiates between 4 different store models: a, b, c, d 商店类型\n",
    "- Assortment - describes an assortment level: a = basic, b = extra, c = extended 产品组合分类\n",
    "- CompetitionDistance - distance in meters to the nearest competitor store 竞争商店距离（米）\n",
    "- CompetitionOpenSince[Month/Year] - gives the approximate year and month of the time the nearest competitor was opened 最近的竞争商店开张的时间（月/年）\n",
    "- Promo - indicates whether a store is running a promo on that day 是否商店当天有优惠\n",
    "- Promo2 - Promo2 is a continuing and consecutive promotion for some stores: 0 = store is not participating, 1 = store is participating 是否参加连续优惠\n",
    "- Promo2Since[Year/Week] - describes the year and calendar week when the store started participating in Promo2 商店参加连续优惠的时间（年/日历周）\n",
    "- PromoInterval - describes the consecutive intervals Promo2 is started, naming the months the promotion is started anew. E.g.  \"Feb,May,Aug,Nov\" means each round starts in February, May, August, November of any given year for that store 连续优惠的间隔\n"
   ]
  },
  {
   "cell_type": "code",
   "execution_count": 4,
   "metadata": {
    "collapsed": true
   },
   "outputs": [],
   "source": [
    "data  = pd.read_csv(train_data_path,na_values = np.nan,low_memory=False)"
   ]
  },
  {
   "cell_type": "code",
   "execution_count": 5,
   "metadata": {},
   "outputs": [
    {
     "data": {
      "text/html": [
       "<div>\n",
       "<style>\n",
       "    .dataframe thead tr:only-child th {\n",
       "        text-align: right;\n",
       "    }\n",
       "\n",
       "    .dataframe thead th {\n",
       "        text-align: left;\n",
       "    }\n",
       "\n",
       "    .dataframe tbody tr th {\n",
       "        vertical-align: top;\n",
       "    }\n",
       "</style>\n",
       "<table border=\"1\" class=\"dataframe\">\n",
       "  <thead>\n",
       "    <tr style=\"text-align: right;\">\n",
       "      <th></th>\n",
       "      <th>Store</th>\n",
       "      <th>DayOfWeek</th>\n",
       "      <th>Date</th>\n",
       "      <th>Sales</th>\n",
       "      <th>Customers</th>\n",
       "      <th>Open</th>\n",
       "      <th>Promo</th>\n",
       "      <th>StateHoliday</th>\n",
       "      <th>SchoolHoliday</th>\n",
       "    </tr>\n",
       "  </thead>\n",
       "  <tbody>\n",
       "    <tr>\n",
       "      <th>0</th>\n",
       "      <td>1</td>\n",
       "      <td>5</td>\n",
       "      <td>2015-07-31</td>\n",
       "      <td>5263</td>\n",
       "      <td>555</td>\n",
       "      <td>1</td>\n",
       "      <td>1</td>\n",
       "      <td>0</td>\n",
       "      <td>1</td>\n",
       "    </tr>\n",
       "    <tr>\n",
       "      <th>1</th>\n",
       "      <td>2</td>\n",
       "      <td>5</td>\n",
       "      <td>2015-07-31</td>\n",
       "      <td>6064</td>\n",
       "      <td>625</td>\n",
       "      <td>1</td>\n",
       "      <td>1</td>\n",
       "      <td>0</td>\n",
       "      <td>1</td>\n",
       "    </tr>\n",
       "    <tr>\n",
       "      <th>2</th>\n",
       "      <td>3</td>\n",
       "      <td>5</td>\n",
       "      <td>2015-07-31</td>\n",
       "      <td>8314</td>\n",
       "      <td>821</td>\n",
       "      <td>1</td>\n",
       "      <td>1</td>\n",
       "      <td>0</td>\n",
       "      <td>1</td>\n",
       "    </tr>\n",
       "    <tr>\n",
       "      <th>3</th>\n",
       "      <td>4</td>\n",
       "      <td>5</td>\n",
       "      <td>2015-07-31</td>\n",
       "      <td>13995</td>\n",
       "      <td>1498</td>\n",
       "      <td>1</td>\n",
       "      <td>1</td>\n",
       "      <td>0</td>\n",
       "      <td>1</td>\n",
       "    </tr>\n",
       "    <tr>\n",
       "      <th>4</th>\n",
       "      <td>5</td>\n",
       "      <td>5</td>\n",
       "      <td>2015-07-31</td>\n",
       "      <td>4822</td>\n",
       "      <td>559</td>\n",
       "      <td>1</td>\n",
       "      <td>1</td>\n",
       "      <td>0</td>\n",
       "      <td>1</td>\n",
       "    </tr>\n",
       "  </tbody>\n",
       "</table>\n",
       "</div>"
      ],
      "text/plain": [
       "   Store  DayOfWeek        Date  Sales  Customers  Open  Promo StateHoliday  \\\n",
       "0      1          5  2015-07-31   5263        555     1      1            0   \n",
       "1      2          5  2015-07-31   6064        625     1      1            0   \n",
       "2      3          5  2015-07-31   8314        821     1      1            0   \n",
       "3      4          5  2015-07-31  13995       1498     1      1            0   \n",
       "4      5          5  2015-07-31   4822        559     1      1            0   \n",
       "\n",
       "   SchoolHoliday  \n",
       "0              1  \n",
       "1              1  \n",
       "2              1  \n",
       "3              1  \n",
       "4              1  "
      ]
     },
     "execution_count": 5,
     "metadata": {},
     "output_type": "execute_result"
    }
   ],
   "source": [
    "data.head()"
   ]
  },
  {
   "cell_type": "code",
   "execution_count": 6,
   "metadata": {},
   "outputs": [
    {
     "data": {
      "text/plain": [
       "array(['2015-07-31', '2015-07-30', '2015-07-29', '2015-07-28',\n",
       "       '2015-07-27', '2015-07-26', '2015-07-25', '2015-07-24',\n",
       "       '2015-07-23', '2015-07-22', '2015-07-21', '2015-07-20',\n",
       "       '2015-07-19', '2015-07-18', '2015-07-17', '2015-07-16',\n",
       "       '2015-07-15', '2015-07-14', '2015-07-13', '2015-07-12',\n",
       "       '2015-07-11', '2015-07-10', '2015-07-09', '2015-07-08',\n",
       "       '2015-07-07', '2015-07-06', '2015-07-05', '2015-07-04',\n",
       "       '2015-07-03', '2015-07-02', '2015-07-01', '2015-06-30',\n",
       "       '2015-06-29', '2015-06-28', '2015-06-27', '2015-06-26',\n",
       "       '2015-06-25', '2015-06-24', '2015-06-23', '2015-06-22',\n",
       "       '2015-06-21', '2015-06-20', '2015-06-19', '2015-06-18',\n",
       "       '2015-06-17', '2015-06-16', '2015-06-15', '2015-06-14',\n",
       "       '2015-06-13', '2015-06-12', '2015-06-11', '2015-06-10',\n",
       "       '2015-06-09', '2015-06-08', '2015-06-07', '2015-06-06',\n",
       "       '2015-06-05', '2015-06-04', '2015-06-03', '2015-06-02',\n",
       "       '2015-06-01', '2015-05-31', '2015-05-30', '2015-05-29',\n",
       "       '2015-05-28', '2015-05-27', '2015-05-26', '2015-05-25',\n",
       "       '2015-05-24', '2015-05-23', '2015-05-22', '2015-05-21',\n",
       "       '2015-05-20', '2015-05-19', '2015-05-18', '2015-05-17',\n",
       "       '2015-05-16', '2015-05-15', '2015-05-14', '2015-05-13',\n",
       "       '2015-05-12', '2015-05-11', '2015-05-10', '2015-05-09',\n",
       "       '2015-05-08', '2015-05-07', '2015-05-06', '2015-05-05',\n",
       "       '2015-05-04', '2015-05-03', '2015-05-02', '2015-05-01',\n",
       "       '2015-04-30', '2015-04-29', '2015-04-28', '2015-04-27',\n",
       "       '2015-04-26', '2015-04-25', '2015-04-24', '2015-04-23',\n",
       "       '2015-04-22', '2015-04-21', '2015-04-20', '2015-04-19',\n",
       "       '2015-04-18', '2015-04-17', '2015-04-16', '2015-04-15',\n",
       "       '2015-04-14', '2015-04-13', '2015-04-12', '2015-04-11',\n",
       "       '2015-04-10', '2015-04-09', '2015-04-08', '2015-04-07',\n",
       "       '2015-04-06', '2015-04-05', '2015-04-04', '2015-04-03',\n",
       "       '2015-04-02', '2015-04-01', '2015-03-31', '2015-03-30',\n",
       "       '2015-03-29', '2015-03-28', '2015-03-27', '2015-03-26',\n",
       "       '2015-03-25', '2015-03-24', '2015-03-23', '2015-03-22',\n",
       "       '2015-03-21', '2015-03-20', '2015-03-19', '2015-03-18',\n",
       "       '2015-03-17', '2015-03-16', '2015-03-15', '2015-03-14',\n",
       "       '2015-03-13', '2015-03-12', '2015-03-11', '2015-03-10',\n",
       "       '2015-03-09', '2015-03-08', '2015-03-07', '2015-03-06',\n",
       "       '2015-03-05', '2015-03-04', '2015-03-03', '2015-03-02',\n",
       "       '2015-03-01', '2015-02-28', '2015-02-27', '2015-02-26',\n",
       "       '2015-02-25', '2015-02-24', '2015-02-23', '2015-02-22',\n",
       "       '2015-02-21', '2015-02-20', '2015-02-19', '2015-02-18',\n",
       "       '2015-02-17', '2015-02-16', '2015-02-15', '2015-02-14',\n",
       "       '2015-02-13', '2015-02-12', '2015-02-11', '2015-02-10',\n",
       "       '2015-02-09', '2015-02-08', '2015-02-07', '2015-02-06',\n",
       "       '2015-02-05', '2015-02-04', '2015-02-03', '2015-02-02',\n",
       "       '2015-02-01', '2015-01-31', '2015-01-30', '2015-01-29',\n",
       "       '2015-01-28', '2015-01-27', '2015-01-26', '2015-01-25',\n",
       "       '2015-01-24', '2015-01-23', '2015-01-22', '2015-01-21',\n",
       "       '2015-01-20', '2015-01-19', '2015-01-18', '2015-01-17',\n",
       "       '2015-01-16', '2015-01-15', '2015-01-14', '2015-01-13',\n",
       "       '2015-01-12', '2015-01-11', '2015-01-10', '2015-01-09',\n",
       "       '2015-01-08', '2015-01-07', '2015-01-06', '2015-01-05',\n",
       "       '2015-01-04', '2015-01-03', '2015-01-02', '2015-01-01',\n",
       "       '2014-12-31', '2014-12-30', '2014-12-29', '2014-12-28',\n",
       "       '2014-12-27', '2014-12-26', '2014-12-25', '2014-12-24',\n",
       "       '2014-12-23', '2014-12-22', '2014-12-21', '2014-12-20',\n",
       "       '2014-12-19', '2014-12-18', '2014-12-17', '2014-12-16',\n",
       "       '2014-12-15', '2014-12-14', '2014-12-13', '2014-12-12',\n",
       "       '2014-12-11', '2014-12-10', '2014-12-09', '2014-12-08',\n",
       "       '2014-12-07', '2014-12-06', '2014-12-05', '2014-12-04',\n",
       "       '2014-12-03', '2014-12-02', '2014-12-01', '2014-11-30',\n",
       "       '2014-11-29', '2014-11-28', '2014-11-27', '2014-11-26',\n",
       "       '2014-11-25', '2014-11-24', '2014-11-23', '2014-11-22',\n",
       "       '2014-11-21', '2014-11-20', '2014-11-19', '2014-11-18',\n",
       "       '2014-11-17', '2014-11-16', '2014-11-15', '2014-11-14',\n",
       "       '2014-11-13', '2014-11-12', '2014-11-11', '2014-11-10',\n",
       "       '2014-11-09', '2014-11-08', '2014-11-07', '2014-11-06',\n",
       "       '2014-11-05', '2014-11-04', '2014-11-03', '2014-11-02',\n",
       "       '2014-11-01', '2014-10-31', '2014-10-30', '2014-10-29',\n",
       "       '2014-10-28', '2014-10-27', '2014-10-26', '2014-10-25',\n",
       "       '2014-10-24', '2014-10-23', '2014-10-22', '2014-10-21',\n",
       "       '2014-10-20', '2014-10-19', '2014-10-18', '2014-10-17',\n",
       "       '2014-10-16', '2014-10-15', '2014-10-14', '2014-10-13',\n",
       "       '2014-10-12', '2014-10-11', '2014-10-10', '2014-10-09',\n",
       "       '2014-10-08', '2014-10-07', '2014-10-06', '2014-10-05',\n",
       "       '2014-10-04', '2014-10-03', '2014-10-02', '2014-10-01',\n",
       "       '2014-09-30', '2014-09-29', '2014-09-28', '2014-09-27',\n",
       "       '2014-09-26', '2014-09-25', '2014-09-24', '2014-09-23',\n",
       "       '2014-09-22', '2014-09-21', '2014-09-20', '2014-09-19',\n",
       "       '2014-09-18', '2014-09-17', '2014-09-16', '2014-09-15',\n",
       "       '2014-09-14', '2014-09-13', '2014-09-12', '2014-09-11',\n",
       "       '2014-09-10', '2014-09-09', '2014-09-08', '2014-09-07',\n",
       "       '2014-09-06', '2014-09-05', '2014-09-04', '2014-09-03',\n",
       "       '2014-09-02', '2014-09-01', '2014-08-31', '2014-08-30',\n",
       "       '2014-08-29', '2014-08-28', '2014-08-27', '2014-08-26',\n",
       "       '2014-08-25', '2014-08-24', '2014-08-23', '2014-08-22',\n",
       "       '2014-08-21', '2014-08-20', '2014-08-19', '2014-08-18',\n",
       "       '2014-08-17', '2014-08-16', '2014-08-15', '2014-08-14',\n",
       "       '2014-08-13', '2014-08-12', '2014-08-11', '2014-08-10',\n",
       "       '2014-08-09', '2014-08-08', '2014-08-07', '2014-08-06',\n",
       "       '2014-08-05', '2014-08-04', '2014-08-03', '2014-08-02',\n",
       "       '2014-08-01', '2014-07-31', '2014-07-30', '2014-07-29',\n",
       "       '2014-07-28', '2014-07-27', '2014-07-26', '2014-07-25',\n",
       "       '2014-07-24', '2014-07-23', '2014-07-22', '2014-07-21',\n",
       "       '2014-07-20', '2014-07-19', '2014-07-18', '2014-07-17',\n",
       "       '2014-07-16', '2014-07-15', '2014-07-14', '2014-07-13',\n",
       "       '2014-07-12', '2014-07-11', '2014-07-10', '2014-07-09',\n",
       "       '2014-07-08', '2014-07-07', '2014-07-06', '2014-07-05',\n",
       "       '2014-07-04', '2014-07-03', '2014-07-02', '2014-07-01',\n",
       "       '2014-06-30', '2014-06-29', '2014-06-28', '2014-06-27',\n",
       "       '2014-06-26', '2014-06-25', '2014-06-24', '2014-06-23',\n",
       "       '2014-06-22', '2014-06-21', '2014-06-20', '2014-06-19',\n",
       "       '2014-06-18', '2014-06-17', '2014-06-16', '2014-06-15',\n",
       "       '2014-06-14', '2014-06-13', '2014-06-12', '2014-06-11',\n",
       "       '2014-06-10', '2014-06-09', '2014-06-08', '2014-06-07',\n",
       "       '2014-06-06', '2014-06-05', '2014-06-04', '2014-06-03',\n",
       "       '2014-06-02', '2014-06-01', '2014-05-31', '2014-05-30',\n",
       "       '2014-05-29', '2014-05-28', '2014-05-27', '2014-05-26',\n",
       "       '2014-05-25', '2014-05-24', '2014-05-23', '2014-05-22',\n",
       "       '2014-05-21', '2014-05-20', '2014-05-19', '2014-05-18',\n",
       "       '2014-05-17', '2014-05-16', '2014-05-15', '2014-05-14',\n",
       "       '2014-05-13', '2014-05-12', '2014-05-11', '2014-05-10',\n",
       "       '2014-05-09', '2014-05-08', '2014-05-07', '2014-05-06',\n",
       "       '2014-05-05', '2014-05-04', '2014-05-03', '2014-05-02',\n",
       "       '2014-05-01', '2014-04-30', '2014-04-29', '2014-04-28',\n",
       "       '2014-04-27', '2014-04-26', '2014-04-25', '2014-04-24',\n",
       "       '2014-04-23', '2014-04-22', '2014-04-21', '2014-04-20',\n",
       "       '2014-04-19', '2014-04-18', '2014-04-17', '2014-04-16',\n",
       "       '2014-04-15', '2014-04-14', '2014-04-13', '2014-04-12',\n",
       "       '2014-04-11', '2014-04-10', '2014-04-09', '2014-04-08',\n",
       "       '2014-04-07', '2014-04-06', '2014-04-05', '2014-04-04',\n",
       "       '2014-04-03', '2014-04-02', '2014-04-01', '2014-03-31',\n",
       "       '2014-03-30', '2014-03-29', '2014-03-28', '2014-03-27',\n",
       "       '2014-03-26', '2014-03-25', '2014-03-24', '2014-03-23',\n",
       "       '2014-03-22', '2014-03-21', '2014-03-20', '2014-03-19',\n",
       "       '2014-03-18', '2014-03-17', '2014-03-16', '2014-03-15',\n",
       "       '2014-03-14', '2014-03-13', '2014-03-12', '2014-03-11',\n",
       "       '2014-03-10', '2014-03-09', '2014-03-08', '2014-03-07',\n",
       "       '2014-03-06', '2014-03-05', '2014-03-04', '2014-03-03',\n",
       "       '2014-03-02', '2014-03-01', '2014-02-28', '2014-02-27',\n",
       "       '2014-02-26', '2014-02-25', '2014-02-24', '2014-02-23',\n",
       "       '2014-02-22', '2014-02-21', '2014-02-20', '2014-02-19',\n",
       "       '2014-02-18', '2014-02-17', '2014-02-16', '2014-02-15',\n",
       "       '2014-02-14', '2014-02-13', '2014-02-12', '2014-02-11',\n",
       "       '2014-02-10', '2014-02-09', '2014-02-08', '2014-02-07',\n",
       "       '2014-02-06', '2014-02-05', '2014-02-04', '2014-02-03',\n",
       "       '2014-02-02', '2014-02-01', '2014-01-31', '2014-01-30',\n",
       "       '2014-01-29', '2014-01-28', '2014-01-27', '2014-01-26',\n",
       "       '2014-01-25', '2014-01-24', '2014-01-23', '2014-01-22',\n",
       "       '2014-01-21', '2014-01-20', '2014-01-19', '2014-01-18',\n",
       "       '2014-01-17', '2014-01-16', '2014-01-15', '2014-01-14',\n",
       "       '2014-01-13', '2014-01-12', '2014-01-11', '2014-01-10',\n",
       "       '2014-01-09', '2014-01-08', '2014-01-07', '2014-01-06',\n",
       "       '2014-01-05', '2014-01-04', '2014-01-03', '2014-01-02',\n",
       "       '2014-01-01', '2013-12-31', '2013-12-30', '2013-12-29',\n",
       "       '2013-12-28', '2013-12-27', '2013-12-26', '2013-12-25',\n",
       "       '2013-12-24', '2013-12-23', '2013-12-22', '2013-12-21',\n",
       "       '2013-12-20', '2013-12-19', '2013-12-18', '2013-12-17',\n",
       "       '2013-12-16', '2013-12-15', '2013-12-14', '2013-12-13',\n",
       "       '2013-12-12', '2013-12-11', '2013-12-10', '2013-12-09',\n",
       "       '2013-12-08', '2013-12-07', '2013-12-06', '2013-12-05',\n",
       "       '2013-12-04', '2013-12-03', '2013-12-02', '2013-12-01',\n",
       "       '2013-11-30', '2013-11-29', '2013-11-28', '2013-11-27',\n",
       "       '2013-11-26', '2013-11-25', '2013-11-24', '2013-11-23',\n",
       "       '2013-11-22', '2013-11-21', '2013-11-20', '2013-11-19',\n",
       "       '2013-11-18', '2013-11-17', '2013-11-16', '2013-11-15',\n",
       "       '2013-11-14', '2013-11-13', '2013-11-12', '2013-11-11',\n",
       "       '2013-11-10', '2013-11-09', '2013-11-08', '2013-11-07',\n",
       "       '2013-11-06', '2013-11-05', '2013-11-04', '2013-11-03',\n",
       "       '2013-11-02', '2013-11-01', '2013-10-31', '2013-10-30',\n",
       "       '2013-10-29', '2013-10-28', '2013-10-27', '2013-10-26',\n",
       "       '2013-10-25', '2013-10-24', '2013-10-23', '2013-10-22',\n",
       "       '2013-10-21', '2013-10-20', '2013-10-19', '2013-10-18',\n",
       "       '2013-10-17', '2013-10-16', '2013-10-15', '2013-10-14',\n",
       "       '2013-10-13', '2013-10-12', '2013-10-11', '2013-10-10',\n",
       "       '2013-10-09', '2013-10-08', '2013-10-07', '2013-10-06',\n",
       "       '2013-10-05', '2013-10-04', '2013-10-03', '2013-10-02',\n",
       "       '2013-10-01', '2013-09-30', '2013-09-29', '2013-09-28',\n",
       "       '2013-09-27', '2013-09-26', '2013-09-25', '2013-09-24',\n",
       "       '2013-09-23', '2013-09-22', '2013-09-21', '2013-09-20',\n",
       "       '2013-09-19', '2013-09-18', '2013-09-17', '2013-09-16',\n",
       "       '2013-09-15', '2013-09-14', '2013-09-13', '2013-09-12',\n",
       "       '2013-09-11', '2013-09-10', '2013-09-09', '2013-09-08',\n",
       "       '2013-09-07', '2013-09-06', '2013-09-05', '2013-09-04',\n",
       "       '2013-09-03', '2013-09-02', '2013-09-01', '2013-08-31',\n",
       "       '2013-08-30', '2013-08-29', '2013-08-28', '2013-08-27',\n",
       "       '2013-08-26', '2013-08-25', '2013-08-24', '2013-08-23',\n",
       "       '2013-08-22', '2013-08-21', '2013-08-20', '2013-08-19',\n",
       "       '2013-08-18', '2013-08-17', '2013-08-16', '2013-08-15',\n",
       "       '2013-08-14', '2013-08-13', '2013-08-12', '2013-08-11',\n",
       "       '2013-08-10', '2013-08-09', '2013-08-08', '2013-08-07',\n",
       "       '2013-08-06', '2013-08-05', '2013-08-04', '2013-08-03',\n",
       "       '2013-08-02', '2013-08-01', '2013-07-31', '2013-07-30',\n",
       "       '2013-07-29', '2013-07-28', '2013-07-27', '2013-07-26',\n",
       "       '2013-07-25', '2013-07-24', '2013-07-23', '2013-07-22',\n",
       "       '2013-07-21', '2013-07-20', '2013-07-19', '2013-07-18',\n",
       "       '2013-07-17', '2013-07-16', '2013-07-15', '2013-07-14',\n",
       "       '2013-07-13', '2013-07-12', '2013-07-11', '2013-07-10',\n",
       "       '2013-07-09', '2013-07-08', '2013-07-07', '2013-07-06',\n",
       "       '2013-07-05', '2013-07-04', '2013-07-03', '2013-07-02',\n",
       "       '2013-07-01', '2013-06-30', '2013-06-29', '2013-06-28',\n",
       "       '2013-06-27', '2013-06-26', '2013-06-25', '2013-06-24',\n",
       "       '2013-06-23', '2013-06-22', '2013-06-21', '2013-06-20',\n",
       "       '2013-06-19', '2013-06-18', '2013-06-17', '2013-06-16',\n",
       "       '2013-06-15', '2013-06-14', '2013-06-13', '2013-06-12',\n",
       "       '2013-06-11', '2013-06-10', '2013-06-09', '2013-06-08',\n",
       "       '2013-06-07', '2013-06-06', '2013-06-05', '2013-06-04',\n",
       "       '2013-06-03', '2013-06-02', '2013-06-01', '2013-05-31',\n",
       "       '2013-05-30', '2013-05-29', '2013-05-28', '2013-05-27',\n",
       "       '2013-05-26', '2013-05-25', '2013-05-24', '2013-05-23',\n",
       "       '2013-05-22', '2013-05-21', '2013-05-20', '2013-05-19',\n",
       "       '2013-05-18', '2013-05-17', '2013-05-16', '2013-05-15',\n",
       "       '2013-05-14', '2013-05-13', '2013-05-12', '2013-05-11',\n",
       "       '2013-05-10', '2013-05-09', '2013-05-08', '2013-05-07',\n",
       "       '2013-05-06', '2013-05-05', '2013-05-04', '2013-05-03',\n",
       "       '2013-05-02', '2013-05-01', '2013-04-30', '2013-04-29',\n",
       "       '2013-04-28', '2013-04-27', '2013-04-26', '2013-04-25',\n",
       "       '2013-04-24', '2013-04-23', '2013-04-22', '2013-04-21',\n",
       "       '2013-04-20', '2013-04-19', '2013-04-18', '2013-04-17',\n",
       "       '2013-04-16', '2013-04-15', '2013-04-14', '2013-04-13',\n",
       "       '2013-04-12', '2013-04-11', '2013-04-10', '2013-04-09',\n",
       "       '2013-04-08', '2013-04-07', '2013-04-06', '2013-04-05',\n",
       "       '2013-04-04', '2013-04-03', '2013-04-02', '2013-04-01',\n",
       "       '2013-03-31', '2013-03-30', '2013-03-29', '2013-03-28',\n",
       "       '2013-03-27', '2013-03-26', '2013-03-25', '2013-03-24',\n",
       "       '2013-03-23', '2013-03-22', '2013-03-21', '2013-03-20',\n",
       "       '2013-03-19', '2013-03-18', '2013-03-17', '2013-03-16',\n",
       "       '2013-03-15', '2013-03-14', '2013-03-13', '2013-03-12',\n",
       "       '2013-03-11', '2013-03-10', '2013-03-09', '2013-03-08',\n",
       "       '2013-03-07', '2013-03-06', '2013-03-05', '2013-03-04',\n",
       "       '2013-03-03', '2013-03-02', '2013-03-01', '2013-02-28',\n",
       "       '2013-02-27', '2013-02-26', '2013-02-25', '2013-02-24',\n",
       "       '2013-02-23', '2013-02-22', '2013-02-21', '2013-02-20',\n",
       "       '2013-02-19', '2013-02-18', '2013-02-17', '2013-02-16',\n",
       "       '2013-02-15', '2013-02-14', '2013-02-13', '2013-02-12',\n",
       "       '2013-02-11', '2013-02-10', '2013-02-09', '2013-02-08',\n",
       "       '2013-02-07', '2013-02-06', '2013-02-05', '2013-02-04',\n",
       "       '2013-02-03', '2013-02-02', '2013-02-01', '2013-01-31',\n",
       "       '2013-01-30', '2013-01-29', '2013-01-28', '2013-01-27',\n",
       "       '2013-01-26', '2013-01-25', '2013-01-24', '2013-01-23',\n",
       "       '2013-01-22', '2013-01-21', '2013-01-20', '2013-01-19',\n",
       "       '2013-01-18', '2013-01-17', '2013-01-16', '2013-01-15',\n",
       "       '2013-01-14', '2013-01-13', '2013-01-12', '2013-01-11',\n",
       "       '2013-01-10', '2013-01-09', '2013-01-08', '2013-01-07',\n",
       "       '2013-01-06', '2013-01-05', '2013-01-04', '2013-01-03',\n",
       "       '2013-01-02', '2013-01-01'], dtype=object)"
      ]
     },
     "execution_count": 6,
     "metadata": {},
     "output_type": "execute_result"
    }
   ],
   "source": [
    "data['Date'].unique()"
   ]
  },
  {
   "cell_type": "code",
   "execution_count": 7,
   "metadata": {},
   "outputs": [
    {
     "data": {
      "text/plain": [
       "Store             int64\n",
       "DayOfWeek         int64\n",
       "Date             object\n",
       "Sales             int64\n",
       "Customers         int64\n",
       "Open              int64\n",
       "Promo             int64\n",
       "StateHoliday     object\n",
       "SchoolHoliday     int64\n",
       "dtype: object"
      ]
     },
     "execution_count": 7,
     "metadata": {},
     "output_type": "execute_result"
    }
   ],
   "source": [
    "data.dtypes"
   ]
  },
  {
   "cell_type": "code",
   "execution_count": 8,
   "metadata": {},
   "outputs": [
    {
     "data": {
      "text/plain": [
       "StateHoliday\n",
       "0    986159\n",
       "a     20260\n",
       "b      6690\n",
       "c      4100\n",
       "Name: Store, dtype: int64"
      ]
     },
     "execution_count": 8,
     "metadata": {},
     "output_type": "execute_result"
    }
   ],
   "source": [
    "data.groupby('StateHoliday').Store.count()"
   ]
  },
  {
   "cell_type": "code",
   "execution_count": 9,
   "metadata": {},
   "outputs": [
    {
     "data": {
      "text/plain": [
       "(1017209, 9)"
      ]
     },
     "execution_count": 9,
     "metadata": {},
     "output_type": "execute_result"
    }
   ],
   "source": [
    "data.shape"
   ]
  },
  {
   "cell_type": "code",
   "execution_count": 10,
   "metadata": {
    "collapsed": true
   },
   "outputs": [],
   "source": [
    "def ShowSales(storeID = 1, data_range_min = 0, data_range_max = 50):\n",
    "    \n",
    "    sale_date = data[data.Store == storeID].Date[data_range_min:data_range_max]\n",
    "    store_sales = data[data.Store == storeID].Sales[data_range_min:data_range_max]\n",
    "#     plt.figure(figsize = (100,30))\n",
    "    plt.autoscale()\n",
    "    plt.bar(sale_date,store_sales)\n",
    "    plt.xticks(rotation = 90)\n",
    "    plt.show()\n",
    "    return"
   ]
  },
  {
   "cell_type": "code",
   "execution_count": 11,
   "metadata": {},
   "outputs": [
    {
     "data": {
      "image/png": "[encoded data removed]",
      "text/plain": [
       "<matplotlib.figure.Figure at 0x21ae7ab1b70>"
      ]
     },
     "metadata": {},
     "output_type": "display_data"
    }
   ],
   "source": [
    "ShowSales(data_range_max = 20)"
   ]
  },
  {
   "cell_type": "code",
   "execution_count": 12,
   "metadata": {
    "collapsed": true
   },
   "outputs": [],
   "source": [
    "sale_date = data[data.Store == 1].Date[:20]\n",
    "store_sales = data[data.Store == 1].Sales[:20]"
   ]
  },
  {
   "cell_type": "code",
   "execution_count": 13,
   "metadata": {},
   "outputs": [
    {
     "data": {
      "image/png": "[encoded data removed]",
      "text/plain": [
       "<matplotlib.figure.Figure at 0x21ae7ab1c18>"
      ]
     },
     "metadata": {},
     "output_type": "display_data"
    }
   ],
   "source": [
    "plt.scatter(sale_date.astype(str),store_sales)\n",
    "plt.show()"
   ]
  },
  {
   "cell_type": "code",
   "execution_count": 14,
   "metadata": {},
   "outputs": [
    {
     "data": {
      "text/plain": [
       "Store\n",
       "1       [2015-07-31, 2015-07-30, 2015-07-29, 2015-07-2...\n",
       "2       [2015-07-31, 2015-07-30, 2015-07-29, 2015-07-2...\n",
       "3       [2015-07-31, 2015-07-30, 2015-07-29, 2015-07-2...\n",
       "4       [2015-07-31, 2015-07-30, 2015-07-29, 2015-07-2...\n",
       "5       [2015-07-31, 2015-07-30, 2015-07-29, 2015-07-2...\n",
       "6       [2015-07-31, 2015-07-30, 2015-07-29, 2015-07-2...\n",
       "7       [2015-07-31, 2015-07-30, 2015-07-29, 2015-07-2...\n",
       "8       [2015-07-31, 2015-07-30, 2015-07-29, 2015-07-2...\n",
       "9       [2015-07-31, 2015-07-30, 2015-07-29, 2015-07-2...\n",
       "10      [2015-07-31, 2015-07-30, 2015-07-29, 2015-07-2...\n",
       "11      [2015-07-31, 2015-07-30, 2015-07-29, 2015-07-2...\n",
       "12      [2015-07-31, 2015-07-30, 2015-07-29, 2015-07-2...\n",
       "13      [2015-07-31, 2015-07-30, 2015-07-29, 2015-07-2...\n",
       "14      [2015-07-31, 2015-07-30, 2015-07-29, 2015-07-2...\n",
       "15      [2015-07-31, 2015-07-30, 2015-07-29, 2015-07-2...\n",
       "16      [2015-07-31, 2015-07-30, 2015-07-29, 2015-07-2...\n",
       "17      [2015-07-31, 2015-07-30, 2015-07-29, 2015-07-2...\n",
       "18      [2015-07-31, 2015-07-30, 2015-07-29, 2015-07-2...\n",
       "19      [2015-07-31, 2015-07-30, 2015-07-29, 2015-07-2...\n",
       "20      [2015-07-31, 2015-07-30, 2015-07-29, 2015-07-2...\n",
       "21      [2015-07-31, 2015-07-30, 2015-07-29, 2015-07-2...\n",
       "22      [2015-07-31, 2015-07-30, 2015-07-29, 2015-07-2...\n",
       "23      [2015-07-31, 2015-07-30, 2015-07-29, 2015-07-2...\n",
       "24      [2015-07-31, 2015-07-30, 2015-07-29, 2015-07-2...\n",
       "25      [2015-07-31, 2015-07-30, 2015-07-29, 2015-07-2...\n",
       "26      [2015-07-31, 2015-07-30, 2015-07-29, 2015-07-2...\n",
       "27      [2015-07-31, 2015-07-30, 2015-07-29, 2015-07-2...\n",
       "28      [2015-07-31, 2015-07-30, 2015-07-29, 2015-07-2...\n",
       "29      [2015-07-31, 2015-07-30, 2015-07-29, 2015-07-2...\n",
       "30      [2015-07-31, 2015-07-30, 2015-07-29, 2015-07-2...\n",
       "                              ...                        \n",
       "1086    [2015-07-31, 2015-07-30, 2015-07-29, 2015-07-2...\n",
       "1087    [2015-07-31, 2015-07-30, 2015-07-29, 2015-07-2...\n",
       "1088    [2015-07-31, 2015-07-30, 2015-07-29, 2015-07-2...\n",
       "1089    [2015-07-31, 2015-07-30, 2015-07-29, 2015-07-2...\n",
       "1090    [2015-07-31, 2015-07-30, 2015-07-29, 2015-07-2...\n",
       "1091    [2015-07-31, 2015-07-30, 2015-07-29, 2015-07-2...\n",
       "1092    [2015-07-31, 2015-07-30, 2015-07-29, 2015-07-2...\n",
       "1093    [2015-07-31, 2015-07-30, 2015-07-29, 2015-07-2...\n",
       "1094    [2015-07-31, 2015-07-30, 2015-07-29, 2015-07-2...\n",
       "1095    [2015-07-31, 2015-07-30, 2015-07-29, 2015-07-2...\n",
       "1096    [2015-07-31, 2015-07-30, 2015-07-29, 2015-07-2...\n",
       "1097    [2015-07-31, 2015-07-30, 2015-07-29, 2015-07-2...\n",
       "1098    [2015-07-31, 2015-07-30, 2015-07-29, 2015-07-2...\n",
       "1099    [2015-07-31, 2015-07-30, 2015-07-29, 2015-07-2...\n",
       "1100    [2015-07-31, 2015-07-30, 2015-07-29, 2015-07-2...\n",
       "1101    [2015-07-31, 2015-07-30, 2015-07-29, 2015-07-2...\n",
       "1102    [2015-07-31, 2015-07-30, 2015-07-29, 2015-07-2...\n",
       "1103    [2015-07-31, 2015-07-30, 2015-07-29, 2015-07-2...\n",
       "1104    [2015-07-31, 2015-07-30, 2015-07-29, 2015-07-2...\n",
       "1105    [2015-07-31, 2015-07-30, 2015-07-29, 2015-07-2...\n",
       "1106    [2015-07-31, 2015-07-30, 2015-07-29, 2015-07-2...\n",
       "1107    [2015-07-31, 2015-07-30, 2015-07-29, 2015-07-2...\n",
       "1108    [2015-07-31, 2015-07-30, 2015-07-29, 2015-07-2...\n",
       "1109    [2015-07-31, 2015-07-30, 2015-07-29, 2015-07-2...\n",
       "1110    [2015-07-31, 2015-07-30, 2015-07-29, 2015-07-2...\n",
       "1111    [2015-07-31, 2015-07-30, 2015-07-29, 2015-07-2...\n",
       "1112    [2015-07-31, 2015-07-30, 2015-07-29, 2015-07-2...\n",
       "1113    [2015-07-31, 2015-07-30, 2015-07-29, 2015-07-2...\n",
       "1114    [2015-07-31, 2015-07-30, 2015-07-29, 2015-07-2...\n",
       "1115    [2015-07-31, 2015-07-30, 2015-07-29, 2015-07-2...\n",
       "Name: Date, Length: 1115, dtype: object"
      ]
     },
     "execution_count": 14,
     "metadata": {},
     "output_type": "execute_result"
    }
   ],
   "source": [
    "store_gp = data.groupby('Store')\n",
    "Group_store = store_gp\n",
    "Group_store['Date'].unique()"
   ]
  },
  {
   "cell_type": "code",
   "execution_count": 119,
   "metadata": {},
   "outputs": [
    {
     "data": {
      "text/plain": [
       "942    934\n",
       "758    180\n",
       "941      1\n",
       "Name: Store, dtype: int64"
      ]
     },
     "execution_count": 119,
     "metadata": {},
     "output_type": "execute_result"
    }
   ],
   "source": [
    "records_counts = store_gp.Store.count()\n",
    "records_counts.value_counts(normalize =False)"
   ]
  },
  {
   "cell_type": "code",
   "execution_count": 129,
   "metadata": {},
   "outputs": [],
   "source": [
    "a_filter = records_counts == 942\n",
    "b_filter = records_counts == 758\n",
    "rec_num = a_filter.value_counts().iloc[0]\n",
    "med_pos = int((rec_num+1)/2)"
   ]
  },
  {
   "cell_type": "code",
   "execution_count": 130,
   "metadata": {},
   "outputs": [
    {
     "data": {
      "text/plain": [
       "934"
      ]
     },
     "execution_count": 130,
     "metadata": {},
     "output_type": "execute_result"
    }
   ],
   "source": [
    "a = a_filter.value_counts()\n",
    "type(a)\n",
    "a.iloc[0]"
   ]
  },
  {
   "cell_type": "code",
   "execution_count": 131,
   "metadata": {},
   "outputs": [
    {
     "name": "stdout",
     "output_type": "stream",
     "text": [
      "934\n",
      "467\n"
     ]
    }
   ],
   "source": [
    "sales_summary = store_gp.Sales.agg(['sum','mean','std'])\n",
    "sales_summary_sum = sales_summary[a_filter]['sum']\n",
    "sales_summary_sum_b = sales_summary[b_filter]['sum']\n",
    "a_rec_num = len(sales_summary_sum)\n",
    "med_pos = int((a_rec_num+1)/2)\n",
    "print(a_rec_num)\n",
    "print(med_pos)\n",
    "asales_max =sales_summary_sum.max()\n",
    "asales_min =sales_summary_sum.min()\n",
    "asales_sum =sales_summary_sum.sum()\n",
    "asales_mean =sales_summary_sum.mean()\n",
    "asales_std =sales_summary_sum.std()\n",
    "asales_median = sales_summary_sum.sort_values().iloc[med_pos]"
   ]
  },
  {
   "cell_type": "code",
   "execution_count": 132,
   "metadata": {},
   "outputs": [
    {
     "name": "stdout",
     "output_type": "stream",
     "text": [
      "5228831.5\n",
      "19516842\n",
      "2114322\n",
      "5127135508\n",
      "5489438.445396146\n",
      "1982197.101310591\n",
      "5229014\n"
     ]
    }
   ],
   "source": [
    "print(sales_summary_sum.sort_values().quantile(0.5))\n",
    "print(asales_max)\n",
    "print(asales_min)\n",
    "print(asales_sum)\n",
    "print(asales_mean)\n",
    "print(asales_std)\n",
    "print(asales_median)"
   ]
  },
  {
   "cell_type": "code",
   "execution_count": 133,
   "metadata": {},
   "outputs": [
    {
     "name": "stdout",
     "output_type": "stream",
     "text": [
      "4164536.5\n",
      "5228831.5\n",
      "6008195.600000001\n",
      "1843659.1000000006\n"
     ]
    }
   ],
   "source": [
    "asales_sum_Q1 = sales_summary_sum.sort_values().quantile(0.25)\n",
    "asales_sum_Q2 = sales_summary_sum.sort_values().quantile(0.5)\n",
    "asales_sum_Q3 = sales_summary_sum.sort_values().quantile(0.7)\n",
    "IQR = asales_sum_Q3-asales_sum_Q1\n",
    "print(asales_sum_Q1)\n",
    "print(asales_sum_Q2)\n",
    "print(asales_sum_Q3)\n",
    "print(IQR)\n",
    "asales_arr_sorted = sales_summary_sum.sort_values()\n",
    "bsales_arr_sorted = sales_summary_sum_b.sort_values()\n",
    "data_boxplt = [asales_arr_sorted,bsales_arr_sorted]"
   ]
  },
  {
   "cell_type": "code",
   "execution_count": 134,
   "metadata": {},
   "outputs": [
    {
     "data": {
      "text/plain": [
       "{'boxes': [<matplotlib.lines.Line2D at 0x21ae87039b0>],\n",
       " 'caps': [<matplotlib.lines.Line2D at 0x21ae8703ba8>,\n",
       "  <matplotlib.lines.Line2D at 0x21ae8537fd0>],\n",
       " 'fliers': [<matplotlib.lines.Line2D at 0x21ae85373c8>],\n",
       " 'means': [],\n",
       " 'medians': [<matplotlib.lines.Line2D at 0x21ae8537710>],\n",
       " 'whiskers': [<matplotlib.lines.Line2D at 0x21ae8703588>,\n",
       "  <matplotlib.lines.Line2D at 0x21ae8703cc0>]}"
      ]
     },
     "execution_count": 134,
     "metadata": {},
     "output_type": "execute_result"
    },
    {
     "data": {
      "image/png": "[encoded data removed]",
      "text/plain": [
       "<matplotlib.figure.Figure at 0x21ae8502438>"
      ]
     },
     "metadata": {},
     "output_type": "display_data"
    }
   ],
   "source": [
    "fig1,ax = plt.subplots()\n",
    "ax.boxplot(asales_arr_sorted,whis = 1.5)"
   ]
  },
  {
   "cell_type": "code",
   "execution_count": 135,
   "metadata": {},
   "outputs": [
    {
     "data": {
      "text/plain": [
       "{'boxes': [<matplotlib.lines.Line2D at 0x21ae86eb080>],\n",
       " 'caps': [<matplotlib.lines.Line2D at 0x21ae8708978>,\n",
       "  <matplotlib.lines.Line2D at 0x21ae87082e8>],\n",
       " 'fliers': [<matplotlib.lines.Line2D at 0x21ae8a15f98>],\n",
       " 'means': [],\n",
       " 'medians': [<matplotlib.lines.Line2D at 0x21ae8708550>],\n",
       " 'whiskers': [<matplotlib.lines.Line2D at 0x21ae86ebba8>,\n",
       "  <matplotlib.lines.Line2D at 0x21ae86ebc50>]}"
      ]
     },
     "execution_count": 135,
     "metadata": {},
     "output_type": "execute_result"
    },
    {
     "data": {
      "image/png": "[encoded data removed]",
      "text/plain": [
       "<matplotlib.figure.Figure at 0x21ae8728b38>"
      ]
     },
     "metadata": {},
     "output_type": "display_data"
    }
   ],
   "source": [
    "fig2,ax2 = plt.subplots()\n",
    "ax2.boxplot(bsales_arr_sorted,whis =1.5)"
   ]
  },
  {
   "cell_type": "code",
   "execution_count": 137,
   "metadata": {},
   "outputs": [
    {
     "name": "stderr",
     "output_type": "stream",
     "text": [
      "C:\\Users\\XuanYang\\Anaconda3\\lib\\site-packages\\numpy\\core\\fromnumeric.py:57: FutureWarning: reshape is deprecated and will raise in a subsequent release. Please use .values.reshape(...) instead\n",
      "  return getattr(obj, method)(*args, **kwds)\n"
     ]
    },
    {
     "data": {
      "text/plain": [
       "{'boxes': [<matplotlib.lines.Line2D at 0x21ae8fc27b8>,\n",
       "  <matplotlib.lines.Line2D at 0x21ae8fd62e8>],\n",
       " 'caps': [<matplotlib.lines.Line2D at 0x21ae8fcf240>,\n",
       "  <matplotlib.lines.Line2D at 0x21ae8fcf668>,\n",
       "  <matplotlib.lines.Line2D at 0x21ae8fd6f98>,\n",
       "  <matplotlib.lines.Line2D at 0x21ae8fdf400>],\n",
       " 'fliers': [<matplotlib.lines.Line2D at 0x21ae8fcfeb8>,\n",
       "  <matplotlib.lines.Line2D at 0x21ae8fdfc50>],\n",
       " 'means': [],\n",
       " 'medians': [<matplotlib.lines.Line2D at 0x21ae8fcfa90>,\n",
       "  <matplotlib.lines.Line2D at 0x21ae8fdf828>],\n",
       " 'whiskers': [<matplotlib.lines.Line2D at 0x21ae8fc2940>,\n",
       "  <matplotlib.lines.Line2D at 0x21ae8fc2dd8>,\n",
       "  <matplotlib.lines.Line2D at 0x21ae8fd6748>,\n",
       "  <matplotlib.lines.Line2D at 0x21ae8fd6b70>]}"
      ]
     },
     "execution_count": 137,
     "metadata": {},
     "output_type": "execute_result"
    },
    {
     "data": {
      "image/png": "[encoded data removed]",
      "text/plain": [
       "<matplotlib.figure.Figure at 0x21ae8a41a90>"
      ]
     },
     "metadata": {},
     "output_type": "display_data"
    }
   ],
   "source": [
    "fig3,ax3 = plt.subplots()\n",
    "ax3.boxplot(data_boxplt)"
   ]
  },
  {
   "cell_type": "code",
   "execution_count": 23,
   "metadata": {
    "collapsed": true
   },
   "outputs": [],
   "source": [
    "store_data = pd.read_csv(store_data_path,na_filter=np.nan,low_memory=False)"
   ]
  },
  {
   "cell_type": "code",
   "execution_count": 24,
   "metadata": {},
   "outputs": [
    {
     "data": {
      "text/html": [
       "<div>\n",
       "<style>\n",
       "    .dataframe thead tr:only-child th {\n",
       "        text-align: right;\n",
       "    }\n",
       "\n",
       "    .dataframe thead th {\n",
       "        text-align: left;\n",
       "    }\n",
       "\n",
       "    .dataframe tbody tr th {\n",
       "        vertical-align: top;\n",
       "    }\n",
       "</style>\n",
       "<table border=\"1\" class=\"dataframe\">\n",
       "  <thead>\n",
       "    <tr style=\"text-align: right;\">\n",
       "      <th></th>\n",
       "      <th>Store</th>\n",
       "      <th>StoreType</th>\n",
       "      <th>Assortment</th>\n",
       "      <th>CompetitionDistance</th>\n",
       "      <th>CompetitionOpenSinceMonth</th>\n",
       "      <th>CompetitionOpenSinceYear</th>\n",
       "      <th>Promo2</th>\n",
       "      <th>Promo2SinceWeek</th>\n",
       "      <th>Promo2SinceYear</th>\n",
       "      <th>PromoInterval</th>\n",
       "    </tr>\n",
       "  </thead>\n",
       "  <tbody>\n",
       "    <tr>\n",
       "      <th>0</th>\n",
       "      <td>1</td>\n",
       "      <td>c</td>\n",
       "      <td>a</td>\n",
       "      <td>1270.0</td>\n",
       "      <td>9.0</td>\n",
       "      <td>2008.0</td>\n",
       "      <td>0</td>\n",
       "      <td>NaN</td>\n",
       "      <td>NaN</td>\n",
       "      <td>NaN</td>\n",
       "    </tr>\n",
       "    <tr>\n",
       "      <th>1</th>\n",
       "      <td>2</td>\n",
       "      <td>a</td>\n",
       "      <td>a</td>\n",
       "      <td>570.0</td>\n",
       "      <td>11.0</td>\n",
       "      <td>2007.0</td>\n",
       "      <td>1</td>\n",
       "      <td>13.0</td>\n",
       "      <td>2010.0</td>\n",
       "      <td>Jan,Apr,Jul,Oct</td>\n",
       "    </tr>\n",
       "    <tr>\n",
       "      <th>2</th>\n",
       "      <td>3</td>\n",
       "      <td>a</td>\n",
       "      <td>a</td>\n",
       "      <td>14130.0</td>\n",
       "      <td>12.0</td>\n",
       "      <td>2006.0</td>\n",
       "      <td>1</td>\n",
       "      <td>14.0</td>\n",
       "      <td>2011.0</td>\n",
       "      <td>Jan,Apr,Jul,Oct</td>\n",
       "    </tr>\n",
       "    <tr>\n",
       "      <th>3</th>\n",
       "      <td>4</td>\n",
       "      <td>c</td>\n",
       "      <td>c</td>\n",
       "      <td>620.0</td>\n",
       "      <td>9.0</td>\n",
       "      <td>2009.0</td>\n",
       "      <td>0</td>\n",
       "      <td>NaN</td>\n",
       "      <td>NaN</td>\n",
       "      <td>NaN</td>\n",
       "    </tr>\n",
       "    <tr>\n",
       "      <th>4</th>\n",
       "      <td>5</td>\n",
       "      <td>a</td>\n",
       "      <td>a</td>\n",
       "      <td>29910.0</td>\n",
       "      <td>4.0</td>\n",
       "      <td>2015.0</td>\n",
       "      <td>0</td>\n",
       "      <td>NaN</td>\n",
       "      <td>NaN</td>\n",
       "      <td>NaN</td>\n",
       "    </tr>\n",
       "  </tbody>\n",
       "</table>\n",
       "</div>"
      ],
      "text/plain": [
       "   Store StoreType Assortment  CompetitionDistance  CompetitionOpenSinceMonth  \\\n",
       "0      1         c          a               1270.0                        9.0   \n",
       "1      2         a          a                570.0                       11.0   \n",
       "2      3         a          a              14130.0                       12.0   \n",
       "3      4         c          c                620.0                        9.0   \n",
       "4      5         a          a              29910.0                        4.0   \n",
       "\n",
       "   CompetitionOpenSinceYear  Promo2  Promo2SinceWeek  Promo2SinceYear  \\\n",
       "0                    2008.0       0              NaN              NaN   \n",
       "1                    2007.0       1             13.0           2010.0   \n",
       "2                    2006.0       1             14.0           2011.0   \n",
       "3                    2009.0       0              NaN              NaN   \n",
       "4                    2015.0       0              NaN              NaN   \n",
       "\n",
       "     PromoInterval  \n",
       "0              NaN  \n",
       "1  Jan,Apr,Jul,Oct  \n",
       "2  Jan,Apr,Jul,Oct  \n",
       "3              NaN  \n",
       "4              NaN  "
      ]
     },
     "execution_count": 24,
     "metadata": {},
     "output_type": "execute_result"
    }
   ],
   "source": [
    "store_data.head()"
   ]
  },
  {
   "cell_type": "code",
   "execution_count": 25,
   "metadata": {},
   "outputs": [
    {
     "data": {
      "text/plain": [
       "<bound method NDFrame.head of 0          2015-07-31\n",
       "1          2015-07-31\n",
       "2          2015-07-31\n",
       "3          2015-07-31\n",
       "4          2015-07-31\n",
       "5          2015-07-31\n",
       "6          2015-07-31\n",
       "7          2015-07-31\n",
       "8          2015-07-31\n",
       "9          2015-07-31\n",
       "10         2015-07-31\n",
       "11         2015-07-31\n",
       "12         2015-07-31\n",
       "13         2015-07-31\n",
       "14         2015-07-31\n",
       "15         2015-07-31\n",
       "16         2015-07-31\n",
       "17         2015-07-31\n",
       "18         2015-07-31\n",
       "19         2015-07-31\n",
       "20         2015-07-31\n",
       "21         2015-07-31\n",
       "22         2015-07-31\n",
       "23         2015-07-31\n",
       "24         2015-07-31\n",
       "25         2015-07-31\n",
       "26         2015-07-31\n",
       "27         2015-07-31\n",
       "28         2015-07-31\n",
       "29         2015-07-31\n",
       "              ...    \n",
       "1017179    2013-01-01\n",
       "1017180    2013-01-01\n",
       "1017181    2013-01-01\n",
       "1017182    2013-01-01\n",
       "1017183    2013-01-01\n",
       "1017184    2013-01-01\n",
       "1017185    2013-01-01\n",
       "1017186    2013-01-01\n",
       "1017187    2013-01-01\n",
       "1017188    2013-01-01\n",
       "1017189    2013-01-01\n",
       "1017190    2013-01-01\n",
       "1017191    2013-01-01\n",
       "1017192    2013-01-01\n",
       "1017193    2013-01-01\n",
       "1017194    2013-01-01\n",
       "1017195    2013-01-01\n",
       "1017196    2013-01-01\n",
       "1017197    2013-01-01\n",
       "1017198    2013-01-01\n",
       "1017199    2013-01-01\n",
       "1017200    2013-01-01\n",
       "1017201    2013-01-01\n",
       "1017202    2013-01-01\n",
       "1017203    2013-01-01\n",
       "1017204    2013-01-01\n",
       "1017205    2013-01-01\n",
       "1017206    2013-01-01\n",
       "1017207    2013-01-01\n",
       "1017208    2013-01-01\n",
       "Name: Date, Length: 1017209, dtype: object>"
      ]
     },
     "execution_count": 25,
     "metadata": {},
     "output_type": "execute_result"
    }
   ],
   "source": [
    "train_date = data['Date']\n",
    "train_date.head"
   ]
  },
  {
   "cell_type": "code",
   "execution_count": 26,
   "metadata": {
    "collapsed": true
   },
   "outputs": [],
   "source": [
    "from datetime import datetime"
   ]
  },
  {
   "cell_type": "code",
   "execution_count": 27,
   "metadata": {},
   "outputs": [
    {
     "name": "stdout",
     "output_type": "stream",
     "text": [
      "941 days, 0:00:00\n"
     ]
    }
   ],
   "source": [
    "dt1 = datetime(2013,1,1)\n",
    "dt2 = datetime(2015,7,31)\n",
    "dt_delta = dt2-dt1\n",
    "print(dt_delta)"
   ]
  },
  {
   "cell_type": "code",
   "execution_count": 28,
   "metadata": {},
   "outputs": [
    {
     "data": {
      "text/plain": [
       "912.295067264574"
      ]
     },
     "execution_count": 28,
     "metadata": {},
     "output_type": "execute_result"
    }
   ],
   "source": [
    "1017209/1115"
   ]
  },
  {
   "cell_type": "code",
   "execution_count": 29,
   "metadata": {},
   "outputs": [
    {
     "data": {
      "text/plain": [
       "<bound method Series.min of 0         2015-07-31\n",
       "1         2015-07-31\n",
       "2         2015-07-31\n",
       "3         2015-07-31\n",
       "4         2015-07-31\n",
       "5         2015-07-31\n",
       "6         2015-07-31\n",
       "7         2015-07-31\n",
       "8         2015-07-31\n",
       "9         2015-07-31\n",
       "10        2015-07-31\n",
       "11        2015-07-31\n",
       "12        2015-07-31\n",
       "13        2015-07-31\n",
       "14        2015-07-31\n",
       "15        2015-07-31\n",
       "16        2015-07-31\n",
       "17        2015-07-31\n",
       "18        2015-07-31\n",
       "19        2015-07-31\n",
       "20        2015-07-31\n",
       "21        2015-07-31\n",
       "22        2015-07-31\n",
       "23        2015-07-31\n",
       "24        2015-07-31\n",
       "25        2015-07-31\n",
       "26        2015-07-31\n",
       "27        2015-07-31\n",
       "28        2015-07-31\n",
       "29        2015-07-31\n",
       "             ...    \n",
       "1017179   2013-01-01\n",
       "1017180   2013-01-01\n",
       "1017181   2013-01-01\n",
       "1017182   2013-01-01\n",
       "1017183   2013-01-01\n",
       "1017184   2013-01-01\n",
       "1017185   2013-01-01\n",
       "1017186   2013-01-01\n",
       "1017187   2013-01-01\n",
       "1017188   2013-01-01\n",
       "1017189   2013-01-01\n",
       "1017190   2013-01-01\n",
       "1017191   2013-01-01\n",
       "1017192   2013-01-01\n",
       "1017193   2013-01-01\n",
       "1017194   2013-01-01\n",
       "1017195   2013-01-01\n",
       "1017196   2013-01-01\n",
       "1017197   2013-01-01\n",
       "1017198   2013-01-01\n",
       "1017199   2013-01-01\n",
       "1017200   2013-01-01\n",
       "1017201   2013-01-01\n",
       "1017202   2013-01-01\n",
       "1017203   2013-01-01\n",
       "1017204   2013-01-01\n",
       "1017205   2013-01-01\n",
       "1017206   2013-01-01\n",
       "1017207   2013-01-01\n",
       "1017208   2013-01-01\n",
       "Name: Date, Length: 1017209, dtype: datetime64[ns]>"
      ]
     },
     "execution_count": 29,
     "metadata": {},
     "output_type": "execute_result"
    }
   ],
   "source": [
    "train_date = pd.to_datetime(train_date)\n",
    "train_date.min"
   ]
  }
 ],
 "metadata": {
  "kernelspec": {
   "display_name": "Python 3",
   "language": "python",
   "name": "python3"
  },
  "language_info": {
   "codemirror_mode": {
    "name": "ipython",
    "version": 3
   },
   "file_extension": ".py",
   "mimetype": "text/x-python",
   "name": "python",
   "nbconvert_exporter": "python",
   "pygments_lexer": "ipython3",
   "version": "3.6.2"
  }
 },
 "nbformat": 4,
 "nbformat_minor": 2
}
